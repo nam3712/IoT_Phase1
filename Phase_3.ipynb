{
  "metadata": {
    "language_info": {
      "codemirror_mode": {
        "name": "python",
        "version": 3
      },
      "file_extension": ".py",
      "mimetype": "text/x-python",
      "name": "python",
      "nbconvert_exporter": "python",
      "pygments_lexer": "ipython3",
      "version": "3.8"
    },
    "kernelspec": {
      "name": "python",
      "display_name": "Python (Pyodide)",
      "language": "python"
    }
  },
  "nbformat_minor": 4,
  "nbformat": 4,
  "cells": [
    {
      "cell_type": "code",
      "source": "import sounddevice as sd\nimport numpy as np\nimport csv\nimport time\n\n# Define the parameters\nduration = 3600  # Recording duration in seconds (1 hour)\nsample_rate = 44100  # Sampling rate in Hz\nchannels = 1  # Mono audio\n\n# Create an empty list to store the sound level data\nsound_levels = []\n\n# Function to calculate the decibel level\ndef calculate_decibel_level(audio_data):\n    rms = np.sqrt(np.mean(audio_data**2))\n    decibel_level = 20 * np.log10(rms)\n    return decibel_level\n\n# Callback function for recording audio\ndef audio_callback(indata, frames, time, status):\n    if status:\n        print(\"Error:\", status)\n    \n    decibel_level = calculate_decibel_level(indata)\n    sound_levels.append(decibel_level)\n\n# Start recording\nwith sd.InputStream(callback=audio_callback, channels=channels,\n                    samplerate=sample_rate):\n    print(f\"Recording for {duration} seconds...\")\n    sd.sleep(duration * 1000)  # Sleep for the recording duration\n\n# Save the recorded data to a CSV file\ntimestamp = time.strftime(\"%Y%m%d%H%M%S\")\nfilename = f\"sound_levels_{timestamp}.csv\"\n\nwith open(filename, 'w', newline='') as csvfile:\n    csv_writer = csv.writer(csvfile)\n    csv_writer.writerow(['Time', 'Decibel Level (dB)'])\n    for i, level in enumerate(sound_levels):\n        csv_writer.writerow([i / sample_rate, level])\n\nprint(f\"Data saved to {filename}\")\n",
      "metadata": {},
      "execution_count": null,
      "outputs": []
    }
  ]
}